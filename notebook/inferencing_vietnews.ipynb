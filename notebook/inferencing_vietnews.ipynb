{
  "cells": [
    {
      "cell_type": "markdown",
      "metadata": {
        "id": "view-in-github"
      },
      "source": [
        "<a href=\"https://colab.research.google.com/github/ngockhanh5110/nlp-vietnamese-text-summarization/blob/main/notebooks/inferencing_vietnews.ipynb\" target=\"_parent\"><img src=\"https://colab.research.google.com/assets/colab-badge.svg\" alt=\"Open In Colab\"/></a>"
      ]
    },
    {
      "cell_type": "code",
      "execution_count": 27,
      "metadata": {
        "colab": {
          "base_uri": "https://localhost:8080/"
        },
        "id": "A6hRf-gcm92k",
        "outputId": "5a1d2ba9-317b-4254-b78e-7ef8f20afcda"
      },
      "outputs": [
        {
          "output_type": "stream",
          "name": "stdout",
          "text": [
            "Drive already mounted at /content/drive; to attempt to forcibly remount, call drive.mount(\"/content/drive\", force_remount=True).\n"
          ]
        }
      ],
      "source": [
        "from google.colab import drive\n",
        "drive.mount('/content/drive')"
      ]
    },
    {
      "cell_type": "code",
      "execution_count": null,
      "metadata": {
        "colab": {
          "base_uri": "https://localhost:8080/"
        },
        "id": "wgp6VBA8DQ-l",
        "outputId": "7db2765a-28a9-4b13-f929-cbfab43baf0b"
      },
      "outputs": [
        {
          "name": "stdout",
          "output_type": "stream",
          "text": [
            "Authenticated\n"
          ]
        }
      ],
      "source": [
        "# # Authenticate\n",
        "# from google.colab import auth\n",
        "# auth.authenticate_user()\n",
        "# print('Authenticated')"
      ]
    },
    {
      "cell_type": "code",
      "execution_count": null,
      "metadata": {
        "id": "Gx4Vg4cbEUJ_"
      },
      "outputs": [],
      "source": [
        "OUTPUT_DIR = '/content/training/'"
      ]
    },
    {
      "cell_type": "code",
      "execution_count": null,
      "metadata": {
        "id": "nVUAENd5DYp6"
      },
      "outputs": [],
      "source": [
        "import random\n",
        "\n",
        "random.seed(0)"
      ]
    },
    {
      "cell_type": "code",
      "execution_count": null,
      "metadata": {
        "id": "3_GCCIaj7ulj"
      },
      "outputs": [],
      "source": [
        "%%capture\n",
        "\n",
        "!wget 'https://github.com/ThanhChinhBK/vietnews/archive/master.zip'\n",
        "!unzip 'master.zip'"
      ]
    },
    {
      "cell_type": "code",
      "execution_count": null,
      "metadata": {
        "id": "YzywNFmeKVgx"
      },
      "outputs": [],
      "source": [
        "%%capture\n",
        "\n",
        "# !wget 'https://github.com/CLC-HCMUS/ViMs-Dataset/raw/master/ViMs.zip'\n",
        "# !unzip 'ViMs.zip'\n",
        "\n",
        "# Install the vncorenlp python wrapper\n",
        "!pip install vncorenlp\n",
        "\n",
        "# Download VnCoreNLP-1.1.1.jar & its word segmentation component (i.e. RDRSegmenter) \n",
        "!mkdir -p vncorenlp/models/wordsegmenter\n",
        "!wget https://raw.githubusercontent.com/vncorenlp/VnCoreNLP/master/VnCoreNLP-1.1.1.jar\n",
        "!wget https://raw.githubusercontent.com/vncorenlp/VnCoreNLP/master/models/wordsegmenter/vi-vocab\n",
        "!wget https://raw.githubusercontent.com/vncorenlp/VnCoreNLP/master/models/wordsegmenter/wordsegmenter.rdr\n",
        "!mv VnCoreNLP-1.1.1.jar vncorenlp/ \n",
        "!mv vi-vocab vncorenlp/models/wordsegmenter/\n",
        "!mv wordsegmenter.rdr vncorenlp/models/wordsegmenter/\n",
        "!pip install datasets==1.0.2"
      ]
    },
    {
      "cell_type": "code",
      "execution_count": null,
      "metadata": {
        "id": "TZYjioRkKviO"
      },
      "outputs": [],
      "source": [
        "import glob\n",
        "import pandas as pd\n",
        "import concurrent.futures\n",
        "from datasets import *"
      ]
    },
    {
      "cell_type": "markdown",
      "metadata": {
        "id": "4IteMtlc58-y"
      },
      "source": [
        "## Processing data"
      ]
    },
    {
      "cell_type": "code",
      "execution_count": null,
      "metadata": {
        "id": "oWuj00alIK5D"
      },
      "outputs": [],
      "source": [
        "# from vncorenlp import VnCoreNLP\n",
        "# rdrsegmenter = VnCoreNLP(\"./vncorenlp/VnCoreNLP-1.1.1.jar\", annotators=\"wseg\", max_heap_size='-Xmx2g') "
      ]
    },
    {
      "cell_type": "code",
      "execution_count": null,
      "metadata": {
        "id": "UVkc5HmK6Bdd"
      },
      "outputs": [],
      "source": [
        "def listPaths(path):\n",
        "  pathfiles = list()\n",
        "  for pathfile in glob.glob(path):\n",
        "    pathfiles.append(pathfile)\n",
        "  return pathfiles\n",
        "\n",
        "train_paths = listPaths('/content/vietnews-master/data/train_tokenized/*')\n",
        "val_paths = listPaths('/content/vietnews-master/data/val_tokenized/*')\n",
        "test_paths = listPaths('/content/vietnews-master/data/test_tokenized/*')"
      ]
    },
    {
      "cell_type": "code",
      "execution_count": null,
      "metadata": {
        "id": "YZ8pgIYN7zSW"
      },
      "outputs": [],
      "source": [
        "def read_content(pathfile):\n",
        "  \"\"\"\n",
        "  Input: Path of txt file\n",
        "  Output: A dictionary has keys 'original' and 'summary'\n",
        "  \"\"\"\n",
        "  with open(pathfile) as f:\n",
        "    rows  = f.readlines()\n",
        "    original = ' '.join(''.join(rows[4:]).split('\\n'))\n",
        "    summary = ' '.join(rows[2].split('\\n'))\n",
        "          \n",
        "  return {'file' : pathfile,\n",
        "          'original': original, \n",
        "          'summary': summary}"
      ]
    },
    {
      "cell_type": "code",
      "execution_count": null,
      "metadata": {
        "colab": {
          "base_uri": "https://localhost:8080/"
        },
        "id": "_716GF2iDTcD",
        "outputId": "19c1377a-13f6-4f8d-b348-d1550769966a"
      },
      "outputs": [
        {
          "data": {
            "text/plain": [
              "{'file': '/content/vietnews-master/data/train_tokenized/051496.txt.seg',\n",
              " 'original': 'Phiến quân Maute giao_tranh với quân_đội Philippines ở Marawi Nhóm phiến quân Maute , có liên_hệ với tổ_chức Nhà_nước Hồi_giáo tự_xưng ( IS ) , hôm_qua nổ_súng tấn_công thành_phố Marawi , phía nam Philippines , đánh chiếm nhiều mục_tiêu và khiến ít_nhất ba binh_sĩ chính_phủ thiệt_mạng , Philstar đưa tin . Các chuyên_gia phân_tích quốc_tế cho_rằng với chiến_dịch táo_bạo đánh chiếm Marawi , nhóm Maute đang đi theo con_đường phô_trương thanh_thế , tạo địa_bàn hoạt_động của IS trước_đây . Năm 2014 , IS cũng bất_ngờ tấn_công Mosul ở miền bắc Iraq , nhanh_chóng đẩy lui quân chính_phủ , biến thành_phố này thành một sào_huyệt để tuyển_mộ lực_lượng và làm bàn_đạp chiếm thêm lãnh_thổ . Sau chiến_dịch này , từ một tổ_chức ít người biết , IS nhanh_chóng trở_thành mối đe_doạ lớn ở Trung_Đông , thu_hút hàng chục nghìn phần_tử cực_đoan gia_nhập . Marawi là thủ_phủ tỉnh Lanao del Sur , miền nam Philippines , với dân_số 201.000 người . Đây được coi là một thành_phố Hồi_giáo , với dân_số theo đạo Hồi chiếm tới 99,6 % . Luật Hồi giáo hà_khắc ( Sharia ) cũng được áp_dụng tại đây , chỉ trừ các hình_phạt như ném đá đến chết , chặt chân_tay hoặc đòn roi vì không phù_hợp với luật_pháp Philippines . Marawi được coi là thành_phố Hồi_giáo của Philippines . Maute vốn chỉ là nhóm phiến quân nhỏ được thành_lập vào năm 2013 , nhiều lần đụng_độ với quân_đội chính_phủ Philippines trong những năm qua . Năm 2016 , quân_đội Philippines tấn_công căn_cứ đầu_não của Maute , tiêu_diệt một_số chỉ_huy cao_cấp của phiến quân . Với chiến_dịch tấn_công vào Marawi , phiến quân Maute trở_thành cái tên được nhắc tới rất nhiều trên truyền_thông Philippines và thế_giới . Một_số người thậm_chí còn gọi Marawi là Mosul thứ hai của Philippines . Quân_đội Philippines từng phát_hiện nhiều tài_liệu huấn_luyện dựa theo phương_thức của IS tại căn_cứ của phiến quân Maute , cho thấy nhóm này đang tìm cách trỗi dậy theo con_đường của IS trước_đây . Đã xuất_hiện thông_tin cho rằng nhóm khủng_bố Abu_Sayyaf tham_gia chiến_dịch tấn_công Marawi . Các nhân_chứng cho_biết phiến quân đốt_phá nhà_thờ Thiên_Chúa_giáo , bắt_giữ nhiều cha_xứ làm con_tin , thậm_chí hành_quyết một_số người không theo đạo Hồi trong thành_phố . Tổng_thống Philippines_Rodrigo_Duterte tuyên_bố thiết_quân luật trên đảo Mindanao trong một nỗ_lực nhằm ngăn_chặn nhóm phiến quân Maute . Quân_đội Philippines cũng đang tổ_chức chiến_dịch phản_công và tự_tin sẽ tiêu_diệt các phiến quân đang chiếm_giữ Marawi trong thời_gian ngắn nhất . Nhóm Maute và nhóm Abu_Sayyaf ở miền nam Philippines đã cam_kết trung_thành với IS , thường_xuyên tổ_chức các hành_động quân_sự đối_đầu với quân_đội chính_phủ , bất_chấp việc ông Duterte cam_kết sẽ dẹp tan các phần_tử cực_đoan và ngăn_chặn tư_tưởng Hồi_giáo cực_đoan truyền_bá ở Philippines . Tổng_thống Duterte nhiều lần cảnh_báo Mindanao , một trong những khu_vực nghèo nhất Philippines , có nguy_cơ bị \" lây_nhiễm \" chủ_nghĩa Hồi_giáo_cực_đoan từ các chiến_binh IS trốn chạy khỏi Iraq và Syria . Lã_Linh   Marawi được coi là thành_phố Hồi_giáo của Philippines . Ảnh đồ_hoạ : Rappler . Phiến quân Maute kiểm_soát nhiều khu_vực trong thành_phố Marawi . ',\n",
              " 'summary': 'Chiến_dịch tấn_công thành_phố Marawi của phiến quân Maute rất giống những gì IS đã làm cách đây ba năm khi đánh chiếm Mosul ở Iraq . '}"
            ]
          },
          "execution_count": 10,
          "metadata": {},
          "output_type": "execute_result"
        }
      ],
      "source": [
        "read_content(train_paths[0])"
      ]
    },
    {
      "cell_type": "code",
      "execution_count": null,
      "metadata": {
        "id": "Wm5kLJD_840E"
      },
      "outputs": [],
      "source": [
        "def get_dataframe(pathfiles):\n",
        "  with concurrent.futures.ProcessPoolExecutor() as executor:\n",
        "    data = executor.map(read_content, pathfiles)\n",
        "  \n",
        "  # Make blank dataframe\n",
        "  data_df = list()\n",
        "  for d in data:\n",
        "    data_df.append(d)\n",
        "  data_df = pd.DataFrame(data_df)\n",
        "  data_df.dropna(inplace = True)\n",
        "  data_df = data_df.sample(frac=1).reset_index(drop=True)\n",
        "\n",
        "  return data_df"
      ]
    },
    {
      "cell_type": "code",
      "execution_count": null,
      "metadata": {
        "id": "d4c0pl5BAl3f"
      },
      "outputs": [],
      "source": [
        "# train_df = get_dataframe(train_paths)"
      ]
    },
    {
      "cell_type": "code",
      "execution_count": null,
      "metadata": {
        "id": "DgMgMnisA0cf"
      },
      "outputs": [],
      "source": [
        "test_df = get_dataframe(test_paths)"
      ]
    },
    {
      "cell_type": "markdown",
      "metadata": {
        "id": "H1F58j028eTV"
      },
      "source": [
        "## **Warm-starting RoBERTaShared for BBC XSum**\n",
        "\n",
        "***Note***: This notebook only uses a few training, validation, and test data samples for demonstration purposes. To fine-tune an encoder-decoder model on the full training data, the user should change the training and data preprocessing parameters accordingly as highlighted by the comments.\n"
      ]
    },
    {
      "cell_type": "markdown",
      "metadata": {
        "id": "3FO5ESocXvlK"
      },
      "source": [
        "### **Data Preprocessing**\n"
      ]
    },
    {
      "cell_type": "code",
      "execution_count": null,
      "metadata": {
        "id": "w67vkz3KP9eZ"
      },
      "outputs": [],
      "source": [
        "%%capture\n",
        "!pip install datasets==1.0.2\n",
        "!pip install transformers\n",
        "\n",
        "import datasets\n",
        "import transformers"
      ]
    },
    {
      "cell_type": "code",
      "execution_count": null,
      "metadata": {
        "id": "sgTiC0rhMb7C"
      },
      "outputs": [],
      "source": [
        "from transformers import RobertaTokenizerFast,AutoTokenizer\n"
      ]
    },
    {
      "cell_type": "code",
      "execution_count": null,
      "metadata": {
        "id": "U08MrUK9LcUM"
      },
      "outputs": [],
      "source": [
        "from sklearn.model_selection import train_test_split\n",
        "\n",
        "# train_data =  Dataset.from_pandas(train_df)"
      ]
    },
    {
      "cell_type": "code",
      "execution_count": null,
      "metadata": {
        "id": "gzRvi4dEiMS9"
      },
      "outputs": [],
      "source": [
        "test_data =  Dataset.from_pandas(test_df)"
      ]
    },
    {
      "cell_type": "markdown",
      "metadata": {
        "id": "u98CLZiTkgzv"
      },
      "source": [
        "### **Fine-Tuning Warm-Started Encoder-Decoder Models**"
      ]
    },
    {
      "cell_type": "markdown",
      "metadata": {
        "id": "-gYzA-w96wCt"
      },
      "source": [
        "The `Seq2SeqTrainer` that can be found under [examples/seq2seq/seq2seq_trainer.py](https://github.com/huggingface/transformers/blob/master/examples/seq2seq/seq2seq_trainer.py) will be used to fine-tune a warm-started encoder-decoder model.\n",
        "\n",
        "Let's download the `Seq2SeqTrainer` code and import the module along with `TrainingArguments`."
      ]
    },
    {
      "cell_type": "code",
      "execution_count": null,
      "metadata": {
        "id": "pyiwaF0noA5c"
      },
      "outputs": [],
      "source": [
        "%%capture\n",
        "!rm seq2seq_trainer.py\n",
        "!wget https://raw.githubusercontent.com/huggingface/transformers/master/examples/seq2seq/seq2seq_trainer.py\n",
        "\n",
        "!pip install git-python==1.0.3\n",
        "!pip install sacrebleu==1.4.12\n",
        "!pip install rouge_score\n",
        "\n",
        "from seq2seq_trainer import Seq2SeqTrainer\n",
        "from transformers import TrainingArguments\n",
        "from dataclasses import dataclass, field\n",
        "from typing import Optional"
      ]
    },
    {
      "cell_type": "markdown",
      "metadata": {
        "id": "5nmQRT3XuHHz"
      },
      "source": [
        "We need to add some additional parameters to make `TrainingArguments` compatible with the `Seq2SeqTrainer`. Let's just copy the `dataclass` arguments as defined in [this file](https://github.com/patrickvonplaten/transformers/blob/make_seq2seq_trainer_self_contained/examples/seq2seq/finetune_trainer.py)."
      ]
    },
    {
      "cell_type": "markdown",
      "metadata": {
        "id": "dPUAgo7pxH24"
      },
      "source": [
        "Also, we need to define a function to correctly compute the ROUGE score during validation. ROUGE is a much better metric to track during training than only language modeling loss."
      ]
    },
    {
      "cell_type": "code",
      "execution_count": null,
      "metadata": {
        "id": "BQgzLsU_MJyz"
      },
      "outputs": [],
      "source": [
        "import datasets"
      ]
    },
    {
      "cell_type": "code",
      "execution_count": null,
      "metadata": {
        "id": "68IHmFYLx09W"
      },
      "outputs": [],
      "source": [
        "# load rouge for validation\n",
        "rouge = datasets.load_metric(\"rouge\")\n",
        "\n",
        "def compute_metrics(pred):\n",
        "    labels_ids = pred.label_ids\n",
        "    pred_ids = pred.predictions\n",
        "\n",
        "    # all unnecessary tokens are removed\n",
        "    pred_str = tokenizer.batch_decode(pred_ids, skip_special_tokens=True)\n",
        "    labels_ids[labels_ids == -100] = tokenizer.pad_token_id\n",
        "    label_str = tokenizer.batch_decode(labels_ids, skip_special_tokens=True)\n",
        "\n",
        "    rouge_output = rouge.compute(predictions=pred_str, references=label_str, rouge_types=[\"rouge2\"])[\"rouge2\"].mid\n",
        "\n",
        "    return {\n",
        "        \"rouge2_precision\": round(rouge_output.precision, 4),\n",
        "        \"rouge2_recall\": round(rouge_output.recall, 4),\n",
        "        \"rouge2_fmeasure\": round(rouge_output.fmeasure, 4),\n",
        "    }"
      ]
    },
    {
      "cell_type": "markdown",
      "metadata": {
        "id": "ZwQIEhKOrJpl"
      },
      "source": [
        "### **Evaluation**\n",
        "\n",
        "Awesome, we finished training our dummy model. Let's now evaluated the model on the test data. We make use of the dataset's handy `.map()` function to generate a summary of each sample of the test data."
      ]
    },
    {
      "cell_type": "code",
      "execution_count": null,
      "metadata": {
        "id": "T1YN8JZ4kRIw"
      },
      "outputs": [],
      "source": [
        "# !mkdir 'training'"
      ]
    },
    {
      "cell_type": "code",
      "execution_count": null,
      "metadata": {
        "id": "7854KKs6EY4x"
      },
      "outputs": [],
      "source": [
        "# !gsutil -m cp -r 'gs://kaggle-vbdi-test/training_data/checkpoint-20000/*' '/content/training/' "
      ]
    },
    {
      "cell_type": "code",
      "execution_count": null,
      "metadata": {
        "colab": {
          "background_save": true,
          "base_uri": "https://localhost:8080/",
          "height": 49,
          "referenced_widgets": [
            "b593727073f645d2b1df0a39d9ce4d4b",
            "b01a373becb14aba88e26c8d17066310",
            "ae61c10b67254ffdb422be3c3038241a",
            "4cdbb906d5e2408a9967bf8225502fcf",
            "011121d8e89341c98337dc432748496f",
            "704243869e424b5bbc26e3d026cebef7",
            "e2ed7a96ee1445e580dea77ab77fed11",
            "a7f5fe875d8b434e983ee3a336156960",
            "4b6fb3392edc4f33a9c6b97a86431661",
            "92db13a35a6942ac833b70a98c2d59d1",
            "2429e00df96346e8a1a0e38658005035"
          ]
        },
        "id": "oOoSrwWarJAC",
        "outputId": "492e1648-d682-4068-ffbb-50ac94147233"
      },
      "outputs": [
        {
          "data": {
            "application/vnd.jupyter.widget-view+json": {
              "model_id": "b593727073f645d2b1df0a39d9ce4d4b",
              "version_major": 2,
              "version_minor": 0
            },
            "text/plain": [
              "  0%|          | 0/708 [00:00<?, ?ba/s]"
            ]
          },
          "metadata": {},
          "output_type": "display_data"
        }
      ],
      "source": [
        "import datasets\n",
        "from transformers import RobertaTokenizer, EncoderDecoderModel, AutoTokenizer\n",
        "from sklearn.model_selection import train_test_split\n",
        "\n",
        "tokenizer = AutoTokenizer.from_pretrained(\"vinai/phobert-base\", use_fast=False)\n",
        "\n",
        "model = EncoderDecoderModel.from_pretrained('/content/drive/MyDrive/checkpoint-40500')\n",
        "model.to(\"cuda\")\n",
        "\n",
        "# test_data = datasets.load_dataset(\"xsum\", split=\"test\")\n",
        "\n",
        "batch_size = 32  # change to 64 for full evaluation\n",
        "\n",
        "# map data correctly\n",
        "def generate_summary(batch):\n",
        "    # Tokenizer will automatically set [BOS] <text> [EOS]\n",
        "    inputs = tokenizer(batch[\"original\"], padding=\"max_length\", truncation=True, max_length=256, return_tensors=\"pt\")\n",
        "    input_ids = inputs.input_ids.to(\"cuda\")\n",
        "    attention_mask = inputs.attention_mask.to(\"cuda\")\n",
        "\n",
        "    outputs = model.generate(input_ids, attention_mask=attention_mask)\n",
        "\n",
        "    # all special tokens including will be removed\n",
        "    output_str = tokenizer.batch_decode(outputs, skip_special_tokens=True)\n",
        "\n",
        "    batch[\"pred\"] = output_str\n",
        "\n",
        "    return batch\n",
        "\n",
        "results = test_data.map(generate_summary, batched=True, batch_size=batch_size, remove_columns=[\"original\"])\n",
        "\n",
        "pred_str = results[\"pred\"]\n",
        "label_str = results[\"summary\"]"
      ]
    },
    {
      "cell_type": "code",
      "execution_count": null,
      "metadata": {
        "id": "NHl8NMjEiTb6"
      },
      "outputs": [],
      "source": [
        "rouge_output = rouge.compute(predictions=pred_str, references=label_str, rouge_types=[\"rouge1\",\"rouge2\",\"rougeL\"])"
      ]
    },
    {
      "cell_type": "code",
      "execution_count": null,
      "metadata": {
        "id": "13HUSVh4-CAk"
      },
      "outputs": [],
      "source": [
        "for key,value in rouge_output.items():\n",
        "  print(key)\n",
        "  print(value.mid)"
      ]
    }
  ],
  "metadata": {
    "accelerator": "GPU",
    "colab": {
      "machine_shape": "hm",
      "name": "inferencing_vietnews.ipynb",
      "provenance": []
    },
    "kernelspec": {
      "display_name": "Python 3",
      "name": "python3"
    },
    "widgets": {
      "application/vnd.jupyter.widget-state+json": {
        "011121d8e89341c98337dc432748496f": {
          "model_module": "@jupyter-widgets/base",
          "model_module_version": "1.2.0",
          "model_name": "LayoutModel",
          "state": {
            "_model_module": "@jupyter-widgets/base",
            "_model_module_version": "1.2.0",
            "_model_name": "LayoutModel",
            "_view_count": null,
            "_view_module": "@jupyter-widgets/base",
            "_view_module_version": "1.2.0",
            "_view_name": "LayoutView",
            "align_content": null,
            "align_items": null,
            "align_self": null,
            "border": null,
            "bottom": null,
            "display": null,
            "flex": null,
            "flex_flow": null,
            "grid_area": null,
            "grid_auto_columns": null,
            "grid_auto_flow": null,
            "grid_auto_rows": null,
            "grid_column": null,
            "grid_gap": null,
            "grid_row": null,
            "grid_template_areas": null,
            "grid_template_columns": null,
            "grid_template_rows": null,
            "height": null,
            "justify_content": null,
            "justify_items": null,
            "left": null,
            "margin": null,
            "max_height": null,
            "max_width": null,
            "min_height": null,
            "min_width": null,
            "object_fit": null,
            "object_position": null,
            "order": null,
            "overflow": null,
            "overflow_x": null,
            "overflow_y": null,
            "padding": null,
            "right": null,
            "top": null,
            "visibility": null,
            "width": null
          }
        },
        "2429e00df96346e8a1a0e38658005035": {
          "model_module": "@jupyter-widgets/controls",
          "model_module_version": "1.5.0",
          "model_name": "DescriptionStyleModel",
          "state": {
            "_model_module": "@jupyter-widgets/controls",
            "_model_module_version": "1.5.0",
            "_model_name": "DescriptionStyleModel",
            "_view_count": null,
            "_view_module": "@jupyter-widgets/base",
            "_view_module_version": "1.2.0",
            "_view_name": "StyleView",
            "description_width": ""
          }
        },
        "4b6fb3392edc4f33a9c6b97a86431661": {
          "model_module": "@jupyter-widgets/controls",
          "model_module_version": "1.5.0",
          "model_name": "ProgressStyleModel",
          "state": {
            "_model_module": "@jupyter-widgets/controls",
            "_model_module_version": "1.5.0",
            "_model_name": "ProgressStyleModel",
            "_view_count": null,
            "_view_module": "@jupyter-widgets/base",
            "_view_module_version": "1.2.0",
            "_view_name": "StyleView",
            "bar_color": null,
            "description_width": ""
          }
        },
        "4cdbb906d5e2408a9967bf8225502fcf": {
          "model_module": "@jupyter-widgets/controls",
          "model_module_version": "1.5.0",
          "model_name": "HTMLModel",
          "state": {
            "_dom_classes": [],
            "_model_module": "@jupyter-widgets/controls",
            "_model_module_version": "1.5.0",
            "_model_name": "HTMLModel",
            "_view_count": null,
            "_view_module": "@jupyter-widgets/controls",
            "_view_module_version": "1.5.0",
            "_view_name": "HTMLView",
            "description": "",
            "description_tooltip": null,
            "layout": "IPY_MODEL_92db13a35a6942ac833b70a98c2d59d1",
            "placeholder": "​",
            "style": "IPY_MODEL_2429e00df96346e8a1a0e38658005035",
            "value": " 708/708 [43:33&lt;00:00,  3.42s/ba]"
          }
        },
        "704243869e424b5bbc26e3d026cebef7": {
          "model_module": "@jupyter-widgets/base",
          "model_module_version": "1.2.0",
          "model_name": "LayoutModel",
          "state": {
            "_model_module": "@jupyter-widgets/base",
            "_model_module_version": "1.2.0",
            "_model_name": "LayoutModel",
            "_view_count": null,
            "_view_module": "@jupyter-widgets/base",
            "_view_module_version": "1.2.0",
            "_view_name": "LayoutView",
            "align_content": null,
            "align_items": null,
            "align_self": null,
            "border": null,
            "bottom": null,
            "display": null,
            "flex": null,
            "flex_flow": null,
            "grid_area": null,
            "grid_auto_columns": null,
            "grid_auto_flow": null,
            "grid_auto_rows": null,
            "grid_column": null,
            "grid_gap": null,
            "grid_row": null,
            "grid_template_areas": null,
            "grid_template_columns": null,
            "grid_template_rows": null,
            "height": null,
            "justify_content": null,
            "justify_items": null,
            "left": null,
            "margin": null,
            "max_height": null,
            "max_width": null,
            "min_height": null,
            "min_width": null,
            "object_fit": null,
            "object_position": null,
            "order": null,
            "overflow": null,
            "overflow_x": null,
            "overflow_y": null,
            "padding": null,
            "right": null,
            "top": null,
            "visibility": null,
            "width": null
          }
        },
        "92db13a35a6942ac833b70a98c2d59d1": {
          "model_module": "@jupyter-widgets/base",
          "model_module_version": "1.2.0",
          "model_name": "LayoutModel",
          "state": {
            "_model_module": "@jupyter-widgets/base",
            "_model_module_version": "1.2.0",
            "_model_name": "LayoutModel",
            "_view_count": null,
            "_view_module": "@jupyter-widgets/base",
            "_view_module_version": "1.2.0",
            "_view_name": "LayoutView",
            "align_content": null,
            "align_items": null,
            "align_self": null,
            "border": null,
            "bottom": null,
            "display": null,
            "flex": null,
            "flex_flow": null,
            "grid_area": null,
            "grid_auto_columns": null,
            "grid_auto_flow": null,
            "grid_auto_rows": null,
            "grid_column": null,
            "grid_gap": null,
            "grid_row": null,
            "grid_template_areas": null,
            "grid_template_columns": null,
            "grid_template_rows": null,
            "height": null,
            "justify_content": null,
            "justify_items": null,
            "left": null,
            "margin": null,
            "max_height": null,
            "max_width": null,
            "min_height": null,
            "min_width": null,
            "object_fit": null,
            "object_position": null,
            "order": null,
            "overflow": null,
            "overflow_x": null,
            "overflow_y": null,
            "padding": null,
            "right": null,
            "top": null,
            "visibility": null,
            "width": null
          }
        },
        "a7f5fe875d8b434e983ee3a336156960": {
          "model_module": "@jupyter-widgets/base",
          "model_module_version": "1.2.0",
          "model_name": "LayoutModel",
          "state": {
            "_model_module": "@jupyter-widgets/base",
            "_model_module_version": "1.2.0",
            "_model_name": "LayoutModel",
            "_view_count": null,
            "_view_module": "@jupyter-widgets/base",
            "_view_module_version": "1.2.0",
            "_view_name": "LayoutView",
            "align_content": null,
            "align_items": null,
            "align_self": null,
            "border": null,
            "bottom": null,
            "display": null,
            "flex": null,
            "flex_flow": null,
            "grid_area": null,
            "grid_auto_columns": null,
            "grid_auto_flow": null,
            "grid_auto_rows": null,
            "grid_column": null,
            "grid_gap": null,
            "grid_row": null,
            "grid_template_areas": null,
            "grid_template_columns": null,
            "grid_template_rows": null,
            "height": null,
            "justify_content": null,
            "justify_items": null,
            "left": null,
            "margin": null,
            "max_height": null,
            "max_width": null,
            "min_height": null,
            "min_width": null,
            "object_fit": null,
            "object_position": null,
            "order": null,
            "overflow": null,
            "overflow_x": null,
            "overflow_y": null,
            "padding": null,
            "right": null,
            "top": null,
            "visibility": null,
            "width": null
          }
        },
        "ae61c10b67254ffdb422be3c3038241a": {
          "model_module": "@jupyter-widgets/controls",
          "model_module_version": "1.5.0",
          "model_name": "FloatProgressModel",
          "state": {
            "_dom_classes": [],
            "_model_module": "@jupyter-widgets/controls",
            "_model_module_version": "1.5.0",
            "_model_name": "FloatProgressModel",
            "_view_count": null,
            "_view_module": "@jupyter-widgets/controls",
            "_view_module_version": "1.5.0",
            "_view_name": "ProgressView",
            "bar_style": "success",
            "description": "",
            "description_tooltip": null,
            "layout": "IPY_MODEL_a7f5fe875d8b434e983ee3a336156960",
            "max": 708,
            "min": 0,
            "orientation": "horizontal",
            "style": "IPY_MODEL_4b6fb3392edc4f33a9c6b97a86431661",
            "value": 708
          }
        },
        "b01a373becb14aba88e26c8d17066310": {
          "model_module": "@jupyter-widgets/controls",
          "model_module_version": "1.5.0",
          "model_name": "HTMLModel",
          "state": {
            "_dom_classes": [],
            "_model_module": "@jupyter-widgets/controls",
            "_model_module_version": "1.5.0",
            "_model_name": "HTMLModel",
            "_view_count": null,
            "_view_module": "@jupyter-widgets/controls",
            "_view_module_version": "1.5.0",
            "_view_name": "HTMLView",
            "description": "",
            "description_tooltip": null,
            "layout": "IPY_MODEL_704243869e424b5bbc26e3d026cebef7",
            "placeholder": "​",
            "style": "IPY_MODEL_e2ed7a96ee1445e580dea77ab77fed11",
            "value": "100%"
          }
        },
        "b593727073f645d2b1df0a39d9ce4d4b": {
          "model_module": "@jupyter-widgets/controls",
          "model_module_version": "1.5.0",
          "model_name": "HBoxModel",
          "state": {
            "_dom_classes": [],
            "_model_module": "@jupyter-widgets/controls",
            "_model_module_version": "1.5.0",
            "_model_name": "HBoxModel",
            "_view_count": null,
            "_view_module": "@jupyter-widgets/controls",
            "_view_module_version": "1.5.0",
            "_view_name": "HBoxView",
            "box_style": "",
            "children": [
              "IPY_MODEL_b01a373becb14aba88e26c8d17066310",
              "IPY_MODEL_ae61c10b67254ffdb422be3c3038241a",
              "IPY_MODEL_4cdbb906d5e2408a9967bf8225502fcf"
            ],
            "layout": "IPY_MODEL_011121d8e89341c98337dc432748496f"
          }
        },
        "e2ed7a96ee1445e580dea77ab77fed11": {
          "model_module": "@jupyter-widgets/controls",
          "model_module_version": "1.5.0",
          "model_name": "DescriptionStyleModel",
          "state": {
            "_model_module": "@jupyter-widgets/controls",
            "_model_module_version": "1.5.0",
            "_model_name": "DescriptionStyleModel",
            "_view_count": null,
            "_view_module": "@jupyter-widgets/base",
            "_view_module_version": "1.2.0",
            "_view_name": "StyleView",
            "description_width": ""
          }
        }
      }
    }
  },
  "nbformat": 4,
  "nbformat_minor": 0
}